{
 "cells": [
  {
   "cell_type": "code",
   "execution_count": 1,
   "id": "86cc83de",
   "metadata": {},
   "outputs": [],
   "source": [
    "import pandas as pd\n",
    "import numpy as np\n",
    "import matplotlib.pyplot as plt\n",
    "import seaborn as sns"
   ]
  },
  {
   "cell_type": "code",
   "execution_count": 2,
   "id": "f982e366",
   "metadata": {},
   "outputs": [
    {
     "data": {
      "text/html": [
       "<div>\n",
       "<style scoped>\n",
       "    .dataframe tbody tr th:only-of-type {\n",
       "        vertical-align: middle;\n",
       "    }\n",
       "\n",
       "    .dataframe tbody tr th {\n",
       "        vertical-align: top;\n",
       "    }\n",
       "\n",
       "    .dataframe thead th {\n",
       "        text-align: right;\n",
       "    }\n",
       "</style>\n",
       "<table border=\"1\" class=\"dataframe\">\n",
       "  <thead>\n",
       "    <tr style=\"text-align: right;\">\n",
       "      <th></th>\n",
       "      <th>Maket ID</th>\n",
       "      <th>Startup Type</th>\n",
       "      <th>Company Size</th>\n",
       "      <th>Challenges</th>\n",
       "      <th>Marketing Strategy</th>\n",
       "      <th>Years in Market</th>\n",
       "    </tr>\n",
       "  </thead>\n",
       "  <tbody>\n",
       "    <tr>\n",
       "      <th>0</th>\n",
       "      <td>1</td>\n",
       "      <td>AgriTech</td>\n",
       "      <td>326</td>\n",
       "      <td>Market Competition</td>\n",
       "      <td>Social Media Marketing</td>\n",
       "      <td>2.0</td>\n",
       "    </tr>\n",
       "    <tr>\n",
       "      <th>1</th>\n",
       "      <td>2</td>\n",
       "      <td>FinTech</td>\n",
       "      <td>249</td>\n",
       "      <td>Market Competition</td>\n",
       "      <td>Social Media Marketing</td>\n",
       "      <td>3.0</td>\n",
       "    </tr>\n",
       "    <tr>\n",
       "      <th>2</th>\n",
       "      <td>3</td>\n",
       "      <td>FinTech</td>\n",
       "      <td>915</td>\n",
       "      <td>Product Development Issues</td>\n",
       "      <td>Content Marketing</td>\n",
       "      <td>2.0</td>\n",
       "    </tr>\n",
       "    <tr>\n",
       "      <th>3</th>\n",
       "      <td>4</td>\n",
       "      <td>RetailTech</td>\n",
       "      <td>620</td>\n",
       "      <td>Scaling and Growth</td>\n",
       "      <td>Direct Marketing</td>\n",
       "      <td>2.0</td>\n",
       "    </tr>\n",
       "    <tr>\n",
       "      <th>4</th>\n",
       "      <td>5</td>\n",
       "      <td>RetailTech</td>\n",
       "      <td>609</td>\n",
       "      <td>Financial Constraints</td>\n",
       "      <td>Content Marketing</td>\n",
       "      <td>1.0</td>\n",
       "    </tr>\n",
       "  </tbody>\n",
       "</table>\n",
       "</div>"
      ],
      "text/plain": [
       "   Maket ID Startup Type  Company Size                  Challenges  \\\n",
       "0         1     AgriTech           326          Market Competition   \n",
       "1         2      FinTech           249          Market Competition   \n",
       "2         3      FinTech           915  Product Development Issues   \n",
       "3         4   RetailTech           620          Scaling and Growth   \n",
       "4         5   RetailTech           609       Financial Constraints   \n",
       "\n",
       "       Marketing Strategy  Years in Market  \n",
       "0  Social Media Marketing              2.0  \n",
       "1  Social Media Marketing              3.0  \n",
       "2       Content Marketing              2.0  \n",
       "3        Direct Marketing              2.0  \n",
       "4       Content Marketing              1.0  "
      ]
     },
     "execution_count": 2,
     "metadata": {},
     "output_type": "execute_result"
    }
   ],
   "source": [
    "df = pd.read_excel('Market Table.xlsx')\n",
    "df.head()"
   ]
  },
  {
   "cell_type": "code",
   "execution_count": 3,
   "id": "7715e55d",
   "metadata": {},
   "outputs": [
    {
     "data": {
      "text/html": [
       "<div>\n",
       "<style scoped>\n",
       "    .dataframe tbody tr th:only-of-type {\n",
       "        vertical-align: middle;\n",
       "    }\n",
       "\n",
       "    .dataframe tbody tr th {\n",
       "        vertical-align: top;\n",
       "    }\n",
       "\n",
       "    .dataframe thead th {\n",
       "        text-align: right;\n",
       "    }\n",
       "</style>\n",
       "<table border=\"1\" class=\"dataframe\">\n",
       "  <thead>\n",
       "    <tr style=\"text-align: right;\">\n",
       "      <th></th>\n",
       "      <th>Maket ID</th>\n",
       "      <th>Startup Type</th>\n",
       "      <th>Company Size</th>\n",
       "      <th>Challenges</th>\n",
       "      <th>Marketing Strategy</th>\n",
       "      <th>Years in Market</th>\n",
       "    </tr>\n",
       "  </thead>\n",
       "  <tbody>\n",
       "    <tr>\n",
       "      <th>1995</th>\n",
       "      <td>1996</td>\n",
       "      <td>FoodTech</td>\n",
       "      <td>184</td>\n",
       "      <td>Financial Constraints</td>\n",
       "      <td>Direct Marketing</td>\n",
       "      <td>2.0</td>\n",
       "    </tr>\n",
       "    <tr>\n",
       "      <th>1996</th>\n",
       "      <td>1997</td>\n",
       "      <td>AgriTech</td>\n",
       "      <td>679</td>\n",
       "      <td>Financial Constraints</td>\n",
       "      <td>Event Marketing</td>\n",
       "      <td>2.0</td>\n",
       "    </tr>\n",
       "    <tr>\n",
       "      <th>1997</th>\n",
       "      <td>1998</td>\n",
       "      <td>FinTech</td>\n",
       "      <td>234</td>\n",
       "      <td>Legal and Compliance Issues</td>\n",
       "      <td>Influencer Marketing</td>\n",
       "      <td>1.0</td>\n",
       "    </tr>\n",
       "    <tr>\n",
       "      <th>1998</th>\n",
       "      <td>1999</td>\n",
       "      <td>EdTech</td>\n",
       "      <td>928</td>\n",
       "      <td>Scaling and Growth</td>\n",
       "      <td>Influencer Marketing</td>\n",
       "      <td>1.0</td>\n",
       "    </tr>\n",
       "    <tr>\n",
       "      <th>1999</th>\n",
       "      <td>2000</td>\n",
       "      <td>FoodTech</td>\n",
       "      <td>184</td>\n",
       "      <td>Financial Constraints</td>\n",
       "      <td>Direct Marketing</td>\n",
       "      <td>2.0</td>\n",
       "    </tr>\n",
       "  </tbody>\n",
       "</table>\n",
       "</div>"
      ],
      "text/plain": [
       "      Maket ID Startup Type  Company Size                   Challenges  \\\n",
       "1995      1996     FoodTech           184        Financial Constraints   \n",
       "1996      1997     AgriTech           679        Financial Constraints   \n",
       "1997      1998      FinTech           234  Legal and Compliance Issues   \n",
       "1998      1999       EdTech           928           Scaling and Growth   \n",
       "1999      2000     FoodTech           184        Financial Constraints   \n",
       "\n",
       "        Marketing Strategy  Years in Market  \n",
       "1995      Direct Marketing              2.0  \n",
       "1996       Event Marketing              2.0  \n",
       "1997  Influencer Marketing              1.0  \n",
       "1998  Influencer Marketing              1.0  \n",
       "1999      Direct Marketing              2.0  "
      ]
     },
     "execution_count": 3,
     "metadata": {},
     "output_type": "execute_result"
    }
   ],
   "source": [
    "df.tail()"
   ]
  },
  {
   "cell_type": "code",
   "execution_count": 4,
   "id": "958ea7b9",
   "metadata": {},
   "outputs": [
    {
     "data": {
      "text/plain": [
       "(2000, 6)"
      ]
     },
     "execution_count": 4,
     "metadata": {},
     "output_type": "execute_result"
    }
   ],
   "source": [
    "df.shape   "
   ]
  },
  {
   "cell_type": "code",
   "execution_count": 5,
   "id": "82ed0bdc",
   "metadata": {},
   "outputs": [
    {
     "data": {
      "text/plain": [
       "Years in Market\n",
       "1.0    709\n",
       "3.0    650\n",
       "2.0    636\n",
       "Name: count, dtype: int64"
      ]
     },
     "execution_count": 5,
     "metadata": {},
     "output_type": "execute_result"
    }
   ],
   "source": [
    "df['Years in Market'].value_counts()"
   ]
  },
  {
   "cell_type": "markdown",
   "id": "2ad9ba8c",
   "metadata": {},
   "source": [
    "We Found that there are only 3 values in the Years in Market Column"
   ]
  },
  {
   "cell_type": "code",
   "execution_count": 6,
   "id": "f9294f93",
   "metadata": {},
   "outputs": [
    {
     "data": {
      "text/plain": [
       "Maket ID              0\n",
       "Startup Type          0\n",
       "Company Size          0\n",
       "Challenges            0\n",
       "Marketing Strategy    0\n",
       "Years in Market       5\n",
       "dtype: int64"
      ]
     },
     "execution_count": 6,
     "metadata": {},
     "output_type": "execute_result"
    }
   ],
   "source": [
    "df.isnull().sum()"
   ]
  },
  {
   "cell_type": "code",
   "execution_count": 8,
   "id": "d40f89b7",
   "metadata": {},
   "outputs": [],
   "source": [
    "df[\"Years in Market\"] = df[\"Years in Market\"].fillna(df[\"Years in Market\"].shift(1))\n",
    "# This extracts the Years in Market column from DataFrame and shifts its values down by one row.\n",
    "# shift(1) function moves each value in the column to the next row, and the first row becomes NaN."
   ]
  },
  {
   "cell_type": "code",
   "execution_count": 9,
   "id": "b4bef1bf",
   "metadata": {},
   "outputs": [
    {
     "data": {
      "text/html": [
       "<div>\n",
       "<style scoped>\n",
       "    .dataframe tbody tr th:only-of-type {\n",
       "        vertical-align: middle;\n",
       "    }\n",
       "\n",
       "    .dataframe tbody tr th {\n",
       "        vertical-align: top;\n",
       "    }\n",
       "\n",
       "    .dataframe thead th {\n",
       "        text-align: right;\n",
       "    }\n",
       "</style>\n",
       "<table border=\"1\" class=\"dataframe\">\n",
       "  <thead>\n",
       "    <tr style=\"text-align: right;\">\n",
       "      <th></th>\n",
       "      <th>count</th>\n",
       "      <th>mean</th>\n",
       "      <th>std</th>\n",
       "      <th>min</th>\n",
       "      <th>25%</th>\n",
       "      <th>50%</th>\n",
       "      <th>75%</th>\n",
       "      <th>max</th>\n",
       "    </tr>\n",
       "  </thead>\n",
       "  <tbody>\n",
       "    <tr>\n",
       "      <th>Company Size</th>\n",
       "      <td>2000.0</td>\n",
       "      <td>501.3315</td>\n",
       "      <td>291.169663</td>\n",
       "      <td>-800.0</td>\n",
       "      <td>246.0</td>\n",
       "      <td>507.5</td>\n",
       "      <td>755.25</td>\n",
       "      <td>1000.0</td>\n",
       "    </tr>\n",
       "  </tbody>\n",
       "</table>\n",
       "</div>"
      ],
      "text/plain": [
       "               count      mean         std    min    25%    50%     75%  \\\n",
       "Company Size  2000.0  501.3315  291.169663 -800.0  246.0  507.5  755.25   \n",
       "\n",
       "                 max  \n",
       "Company Size  1000.0  "
      ]
     },
     "execution_count": 9,
     "metadata": {},
     "output_type": "execute_result"
    }
   ],
   "source": [
    "df[['Company Size']].describe().T"
   ]
  },
  {
   "cell_type": "code",
   "execution_count": 10,
   "id": "0f658c83",
   "metadata": {},
   "outputs": [],
   "source": [
    "#replace the outlire       \n",
    "df['Company Size'] = df['Company Size'].replace(-800,800)"
   ]
  },
  {
   "cell_type": "code",
   "execution_count": 11,
   "id": "b463a10e",
   "metadata": {},
   "outputs": [
    {
     "data": {
      "text/html": [
       "<div>\n",
       "<style scoped>\n",
       "    .dataframe tbody tr th:only-of-type {\n",
       "        vertical-align: middle;\n",
       "    }\n",
       "\n",
       "    .dataframe tbody tr th {\n",
       "        vertical-align: top;\n",
       "    }\n",
       "\n",
       "    .dataframe thead th {\n",
       "        text-align: right;\n",
       "    }\n",
       "</style>\n",
       "<table border=\"1\" class=\"dataframe\">\n",
       "  <thead>\n",
       "    <tr style=\"text-align: right;\">\n",
       "      <th></th>\n",
       "      <th>count</th>\n",
       "      <th>mean</th>\n",
       "      <th>std</th>\n",
       "      <th>min</th>\n",
       "      <th>25%</th>\n",
       "      <th>50%</th>\n",
       "      <th>75%</th>\n",
       "      <th>max</th>\n",
       "    </tr>\n",
       "  </thead>\n",
       "  <tbody>\n",
       "    <tr>\n",
       "      <th>Company Size</th>\n",
       "      <td>2000.0</td>\n",
       "      <td>502.1315</td>\n",
       "      <td>289.787164</td>\n",
       "      <td>5.0</td>\n",
       "      <td>246.75</td>\n",
       "      <td>508.0</td>\n",
       "      <td>756.0</td>\n",
       "      <td>1000.0</td>\n",
       "    </tr>\n",
       "  </tbody>\n",
       "</table>\n",
       "</div>"
      ],
      "text/plain": [
       "               count      mean         std  min     25%    50%    75%     max\n",
       "Company Size  2000.0  502.1315  289.787164  5.0  246.75  508.0  756.0  1000.0"
      ]
     },
     "execution_count": 11,
     "metadata": {},
     "output_type": "execute_result"
    }
   ],
   "source": [
    "df[['Company Size']].describe().T"
   ]
  },
  {
   "cell_type": "code",
   "execution_count": 13,
   "id": "9d4595a9",
   "metadata": {},
   "outputs": [
    {
     "data": {
      "image/png": "[encoded data removed]",
      "text/plain": [
       "<Figure size 800x600 with 1 Axes>"
      ]
     },
     "metadata": {},
     "output_type": "display_data"
    }
   ],
   "source": [
    "plt.figure(figsize=(8, 6))\n",
    "sns.boxplot(x='Company Size', data=df)\n",
    "plt.title('Boxplot of Company Size')\n",
    "plt.xlabel('Company Size')\n",
    "plt.show()"
   ]
  },
  {
   "cell_type": "code",
   "execution_count": 14,
   "id": "02d9b631",
   "metadata": {},
   "outputs": [
    {
     "data": {
      "text/plain": [
       "0"
      ]
     },
     "execution_count": 14,
     "metadata": {},
     "output_type": "execute_result"
    }
   ],
   "source": [
    "df.duplicated().sum()"
   ]
  },
  {
   "cell_type": "code",
   "execution_count": 15,
   "id": "0a14e815",
   "metadata": {},
   "outputs": [
    {
     "name": "stdout",
     "output_type": "stream",
     "text": [
      "<class 'pandas.core.frame.DataFrame'>\n",
      "RangeIndex: 2000 entries, 0 to 1999\n",
      "Data columns (total 6 columns):\n",
      " #   Column              Non-Null Count  Dtype  \n",
      "---  ------              --------------  -----  \n",
      " 0   Maket ID            2000 non-null   int64  \n",
      " 1   Startup Type        2000 non-null   object \n",
      " 2   Company Size        2000 non-null   int64  \n",
      " 3   Challenges          2000 non-null   object \n",
      " 4   Marketing Strategy  2000 non-null   object \n",
      " 5   Years in Market     2000 non-null   float64\n",
      "dtypes: float64(1), int64(2), object(3)\n",
      "memory usage: 93.9+ KB\n"
     ]
    }
   ],
   "source": [
    "df.info()"
   ]
  },
  {
   "cell_type": "code",
   "execution_count": 16,
   "id": "6e701137",
   "metadata": {},
   "outputs": [],
   "source": [
    "#grouping the company size into segmants\n",
    "def categorize_company_size(size):\n",
    "  if 0 <= size <= 10:\n",
    "    return '0-10'\n",
    "  elif 10 < size <= 50:\n",
    "    return '11-50'\n",
    "  elif 50 < size <= 200:\n",
    "    return '51-200'\n",
    "  elif 200 < size <= 500:\n",
    "    return '201-500'\n",
    "  elif 500 < size <= 1000:\n",
    "    return '501-1000'\n",
    "  else:\n",
    "    return 'Other'\n",
    "\n",
    "df['Company Size Category'] = df['Company Size'].apply(categorize_company_size)"
   ]
  },
  {
   "cell_type": "code",
   "execution_count": 17,
   "id": "403e1284",
   "metadata": {},
   "outputs": [
    {
     "data": {
      "text/html": [
       "<div>\n",
       "<style scoped>\n",
       "    .dataframe tbody tr th:only-of-type {\n",
       "        vertical-align: middle;\n",
       "    }\n",
       "\n",
       "    .dataframe tbody tr th {\n",
       "        vertical-align: top;\n",
       "    }\n",
       "\n",
       "    .dataframe thead th {\n",
       "        text-align: right;\n",
       "    }\n",
       "</style>\n",
       "<table border=\"1\" class=\"dataframe\">\n",
       "  <thead>\n",
       "    <tr style=\"text-align: right;\">\n",
       "      <th></th>\n",
       "      <th>Maket ID</th>\n",
       "      <th>Startup Type</th>\n",
       "      <th>Company Size</th>\n",
       "      <th>Challenges</th>\n",
       "      <th>Marketing Strategy</th>\n",
       "      <th>Years in Market</th>\n",
       "      <th>Company Size Category</th>\n",
       "    </tr>\n",
       "  </thead>\n",
       "  <tbody>\n",
       "    <tr>\n",
       "      <th>0</th>\n",
       "      <td>1</td>\n",
       "      <td>AgriTech</td>\n",
       "      <td>326</td>\n",
       "      <td>Market Competition</td>\n",
       "      <td>Social Media Marketing</td>\n",
       "      <td>2.0</td>\n",
       "      <td>201-500</td>\n",
       "    </tr>\n",
       "    <tr>\n",
       "      <th>1</th>\n",
       "      <td>2</td>\n",
       "      <td>FinTech</td>\n",
       "      <td>249</td>\n",
       "      <td>Market Competition</td>\n",
       "      <td>Social Media Marketing</td>\n",
       "      <td>3.0</td>\n",
       "      <td>201-500</td>\n",
       "    </tr>\n",
       "    <tr>\n",
       "      <th>2</th>\n",
       "      <td>3</td>\n",
       "      <td>FinTech</td>\n",
       "      <td>915</td>\n",
       "      <td>Product Development Issues</td>\n",
       "      <td>Content Marketing</td>\n",
       "      <td>2.0</td>\n",
       "      <td>501-1000</td>\n",
       "    </tr>\n",
       "    <tr>\n",
       "      <th>3</th>\n",
       "      <td>4</td>\n",
       "      <td>RetailTech</td>\n",
       "      <td>620</td>\n",
       "      <td>Scaling and Growth</td>\n",
       "      <td>Direct Marketing</td>\n",
       "      <td>2.0</td>\n",
       "      <td>501-1000</td>\n",
       "    </tr>\n",
       "    <tr>\n",
       "      <th>4</th>\n",
       "      <td>5</td>\n",
       "      <td>RetailTech</td>\n",
       "      <td>609</td>\n",
       "      <td>Financial Constraints</td>\n",
       "      <td>Content Marketing</td>\n",
       "      <td>1.0</td>\n",
       "      <td>501-1000</td>\n",
       "    </tr>\n",
       "  </tbody>\n",
       "</table>\n",
       "</div>"
      ],
      "text/plain": [
       "   Maket ID Startup Type  Company Size                  Challenges  \\\n",
       "0         1     AgriTech           326          Market Competition   \n",
       "1         2      FinTech           249          Market Competition   \n",
       "2         3      FinTech           915  Product Development Issues   \n",
       "3         4   RetailTech           620          Scaling and Growth   \n",
       "4         5   RetailTech           609       Financial Constraints   \n",
       "\n",
       "       Marketing Strategy  Years in Market Company Size Category  \n",
       "0  Social Media Marketing              2.0               201-500  \n",
       "1  Social Media Marketing              3.0               201-500  \n",
       "2       Content Marketing              2.0              501-1000  \n",
       "3        Direct Marketing              2.0              501-1000  \n",
       "4       Content Marketing              1.0              501-1000  "
      ]
     },
     "execution_count": 17,
     "metadata": {},
     "output_type": "execute_result"
    }
   ],
   "source": [
    "df.head()"
   ]
  },
  {
   "cell_type": "code",
   "execution_count": 19,
   "id": "a5d6b3ef",
   "metadata": {},
   "outputs": [
    {
     "data": {
      "text/plain": [
       "Company Size Category\n",
       "501-1000    1009\n",
       "201-500      588\n",
       "51-200       304\n",
       "11-50         89\n",
       "0-10          10\n",
       "Name: count, dtype: int64"
      ]
     },
     "execution_count": 19,
     "metadata": {},
     "output_type": "execute_result"
    }
   ],
   "source": [
    "df['Company Size Category'].value_counts()"
   ]
  },
  {
   "cell_type": "code",
   "execution_count": 20,
   "id": "7e92cfe3",
   "metadata": {},
   "outputs": [
    {
     "data": {
      "text/plain": [
       "<Axes: >"
      ]
     },
     "execution_count": 20,
     "metadata": {},
     "output_type": "execute_result"
    },
    {
     "data": {
      "image/png": "[encoded data removed]",
      "text/plain": [
       "<Figure size 640x480 with 1 Axes>"
      ]
     },
     "metadata": {},
     "output_type": "display_data"
    }
   ],
   "source": [
    "df['Company Size'].hist()"
   ]
  },
  {
   "cell_type": "markdown",
   "id": "d61b19de",
   "metadata": {},
   "source": [
    "we did not find any distribution"
   ]
  },
  {
   "cell_type": "code",
   "execution_count": null,
   "id": "76a40fc8",
   "metadata": {},
   "outputs": [],
   "source": []
  }
 ],
 "metadata": {
  "kernelspec": {
   "display_name": "Python 3 (ipykernel)",
   "language": "python",
   "name": "python3"
  },
  "language_info": {
   "codemirror_mode": {
    "name": "ipython",
    "version": 3
   },
   "file_extension": ".py",
   "mimetype": "text/x-python",
   "name": "python",
   "nbconvert_exporter": "python",
   "pygments_lexer": "ipython3",
   "version": "3.11.5"
  }
 },
 "nbformat": 4,
 "nbformat_minor": 5
}
